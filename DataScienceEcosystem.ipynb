{
 "cells": [
  {
   "cell_type": "markdown",
   "id": "ee4f624a-21af-46e5-a6d0-f2fc4ed1f922",
   "metadata": {},
   "source": [
    "# Data Science Tools and Ecosystem"
   ]
  },
  {
   "cell_type": "markdown",
   "id": "44480b45-505a-460c-8b6c-35aa95bbb771",
   "metadata": {},
   "source": [
    "In this notebook, Data Science Tools and Ecosystem are summarized.\n",
    "\n"
   ]
  },
  {
   "cell_type": "markdown",
   "id": "7322299a-248b-4ee7-8e12-585a2b35de88",
   "metadata": {},
   "source": [
    "**Objectives:**\n",
    "- List popular languages for Data Science\n",
    "- List commonly used libraties by Data Science\n",
    "- List commonly user Data Science tools"
   ]
  },
  {
   "cell_type": "markdown",
   "id": "44f52ce9-63a6-49da-8971-2ea108402ecd",
   "metadata": {},
   "source": [
    "Some of the popular languages that Data Scientists use are:\n",
    "1. Python\n",
    "2. R\n",
    "3. SQL"
   ]
  },
  {
   "cell_type": "markdown",
   "id": "cd8ea77e-d80c-4198-80d1-6b6fbfe1c45d",
   "metadata": {},
   "source": [
    "Some of the commonly used libraries used by Data Scientists include:\n",
    "1. Pandas\n",
    "2. NumPy\n",
    "3. matplotlib"
   ]
  },
  {
   "cell_type": "markdown",
   "id": "a3b997b3-0e11-4478-ae21-275933595a36",
   "metadata": {},
   "source": [
    "| Data Science Tools |\n",
    "| -------------------|\n",
    "| Juypter Notebook |\n",
    "| Anaconda |\n",
    "| Rstudio |"
   ]
  },
  {
   "cell_type": "markdown",
   "id": "8a8176f8-757d-4cd0-abc8-e15bbc76685e",
   "metadata": {},
   "source": [
    "### Below are a few examples of evaluating arithmetic expressions in Python."
   ]
  },
  {
   "cell_type": "code",
   "execution_count": 5,
   "id": "b92bf6f9-6524-4842-9b8b-bf4b762c261a",
   "metadata": {},
   "outputs": [
    {
     "data": {
      "text/plain": [
       "17"
      ]
     },
     "execution_count": 5,
     "metadata": {},
     "output_type": "execute_result"
    }
   ],
   "source": [
    "# This a simple arithmetic expression to mutiply then add integers\n",
    "(3*4)+5"
   ]
  },
  {
   "cell_type": "code",
   "execution_count": 6,
   "id": "0338eba3-ec9b-483d-b18c-fe2125009ec2",
   "metadata": {},
   "outputs": [
    {
     "data": {
      "text/plain": [
       "3.3333333333333335"
      ]
     },
     "execution_count": 6,
     "metadata": {},
     "output_type": "execute_result"
    }
   ],
   "source": [
    "# This will convert 200 minutes to hours by diving by 60\n",
    "200/60"
   ]
  },
  {
   "cell_type": "markdown",
   "id": "a85bd4b4-28d8-4785-b0d8-e935614d9fa5",
   "metadata": {},
   "source": [
    "## Author\n",
    "Priyankar Saha"
   ]
  },
  {
   "cell_type": "code",
   "execution_count": null,
   "id": "fa5c65c9-8983-414e-afba-f1017b512836",
   "metadata": {},
   "outputs": [],
   "source": []
  }
 ],
 "metadata": {
  "kernelspec": {
   "display_name": "Python 3 (ipykernel)",
   "language": "python",
   "name": "python3"
  },
  "language_info": {
   "codemirror_mode": {
    "name": "ipython",
    "version": 3
   },
   "file_extension": ".py",
   "mimetype": "text/x-python",
   "name": "python",
   "nbconvert_exporter": "python",
   "pygments_lexer": "ipython3",
   "version": "3.11.9"
  }
 },
 "nbformat": 4,
 "nbformat_minor": 5
}
